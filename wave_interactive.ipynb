{
 "cells": [
  {
   "cell_type": "code",
   "execution_count": 1,
   "id": "gothic-appreciation",
   "metadata": {},
   "outputs": [],
   "source": [
    "import os\n",
    "from pathlib import Path\n",
    "import datetime as dt\n",
    "\n",
    "import json\n",
    "import xarray as xr\n",
    "import numpy as np\n",
    "import pandas as pd\n",
    "from netCDF4 import Dataset as netcdf_dataset\n",
    "\n",
    "import cmocean\n",
    "import matplotlib as mpl\n",
    "\n",
    "import matplotlib.pyplot as plt\n",
    "import cartopy.crs as ccrs\n",
    "\n",
    "from matplotlib.colors import BoundaryNorm\n",
    "from matplotlib.ticker import MaxNLocator\n",
    "from matplotlib.transforms import offset_copy\n",
    "\n",
    "from math import floor\n",
    "import ipywidgets as widgets"
   ]
  },
  {
   "cell_type": "code",
   "execution_count": 2,
   "id": "affecting-exercise",
   "metadata": {},
   "outputs": [],
   "source": [
    "class Settings(object):\n",
    "    _instance = None\n",
    "    _fname = \"test_settings.json\"\n",
    "    _data = {}\n",
    "\n",
    "    def set_config(self,_fname):\n",
    "        with open(_fname) as json_file:\n",
    "            self._data = json.load(json_file)\n",
    "        if not os.path.exists(self._data['data_dir']):\n",
    "            os.makedirs(self._data['data_dir'])\n",
    "        if not os.path.exists(self._data['out_dir']):\n",
    "            os.makedirs(self._data['out_dir'])\n",
    "\n",
    "    def __new__(cls):\n",
    "        if cls._instance is None:\n",
    "            cls._instance = super(Settings, cls).__new__(cls)\n",
    "            cls.set_config(cls, cls._fname)\n",
    "        return cls._instance\n",
    "    def get(self,atr):\n",
    "        return self._data[atr]\n",
    "    def set_attribute(self,atr, value):\n",
    "        self._data[atr] = value"
   ]
  },
  {
   "cell_type": "code",
   "execution_count": 3,
   "id": "union-reset",
   "metadata": {},
   "outputs": [],
   "source": [
    "#file list is []\n",
    "def get_min_max(wave_dict, file_list):\n",
    "    wave_min, wave_max = 0, 0\n",
    "    for f_p in file_list:\n",
    "        dataset = netcdf_dataset(os.path.join(Settings().get('data_dir'), f_p))\n",
    "        for wave in wave_dict.keys():\n",
    "            wave_data = dataset.variables[wave][0, :, :]\n",
    "            #wtf why i have temp here?\n",
    "            temp_min = wave_data.min()\n",
    "            temp_max = wave_data.max()\n",
    "            if temp_min < wave_min:\n",
    "                wave_min = temp_min\n",
    "            if temp_max > wave_max:\n",
    "                wave_max = temp_max\n",
    "        dataset.close()\n",
    "    return (wave_min, wave_max)\n"
   ]
  },
  {
   "cell_type": "code",
   "execution_count": 4,
   "id": "breeding-separation",
   "metadata": {},
   "outputs": [],
   "source": [
    "def make_ticks(w_min, w_max):\n",
    "    scale = w_max - w_min\n",
    "    if scale > 10:\n",
    "        num = floor((w_max - w_min)/2) + 1\n",
    "    else:\n",
    "        num = floor(w_max) + 1\n",
    "    ticks = np.linspace(floor(w_min), floor(w_max), num=num, dtype = int)\n",
    "    labels = []\n",
    "    for t in ticks:\n",
    "        if t == 0:\n",
    "            labels.append('flat')\n",
    "        elif t == 1:\n",
    "            labels.append('1 meter')\n",
    "        else:\n",
    "            labels.append(str(t)+ ' meters')\n",
    "    return ticks, labels"
   ]
  },
  {
   "cell_type": "code",
   "execution_count": 5,
   "id": "commercial-prescription",
   "metadata": {},
   "outputs": [],
   "source": [
    "#just convert index to actual datime string eg:  '2021.01.04 00h:00'\n",
    "def get_time_string(i_time):\n",
    "    return pd.to_datetime(str(time_xr[i_time].data)).strftime('%Y.%m.%d %Hh:%M')"
   ]
  },
  {
   "cell_type": "code",
   "execution_count": null,
   "id": "israeli-gambling",
   "metadata": {},
   "outputs": [],
   "source": []
  },
  {
   "cell_type": "code",
   "execution_count": 6,
   "id": "authorized-wilson",
   "metadata": {},
   "outputs": [],
   "source": [
    "wave_dict = {\"VHM0_WW\": \"significant wind wave height\",\n",
    "            \"VHM0_SW1\": \"significant primary swell wave height\",\n",
    "            \"VHM0_SW2\": \"significant secondary swell wave height\"}\n",
    "\n",
    "#load data\n",
    "stgs = Settings()\n",
    "data_file = 'testfile1.nc'\n",
    "file_path = os.path.join(stgs.get('data_dir'),data_file)\n",
    "data_list = [file_path] \n",
    "dataset = netcdf_dataset(file_path)\n",
    "dataset_xr = xr.open_dataset(file_path)\n",
    "\n",
    "lats = dataset.variables['latitude'][:]\n",
    "lons = dataset.variables['longitude'][:]\n",
    "time_xr = dataset_xr['time']\n",
    "proj = ccrs.PlateCarree()\n",
    "\n",
    "(w_min, w_max) = get_min_max(wave_dict, data_list)\n",
    "\n",
    "cmap = cmocean.cm.deep\n",
    "levels = MaxNLocator(nbins=10).tick_values(w_min, w_max)\n",
    "norm = BoundaryNorm(levels, ncolors=cmap.N, clip=True)\n",
    "ticks,labels = make_ticks(w_min, w_max)\n",
    "dx, dy = 0.05, 0.05"
   ]
  },
  {
   "cell_type": "code",
   "execution_count": 7,
   "id": "female-treasure",
   "metadata": {},
   "outputs": [],
   "source": [
    "def jupyter_single_frame_ultra1(i_time):\n",
    "    wave_var = \"VHM0_WW\"\n",
    "    wave_name = wave_dict[wave_var]\n",
    "    wave_tn = dataset.variables[wave_var][0, :, :]\n",
    "        \n",
    "    wave_tn = dataset.variables[wave_var][i_time, :, :]\n",
    "    fig = plt.figure(figsize=(12, 6), clear=False)\n",
    "    \n",
    "    ax = fig.add_subplot(1, 1, 1, projection=proj)\n",
    "    \n",
    "    ax.set_extent([stgs.get('min_lon'),stgs.get('max_lon'),stgs.get('min_lat'),stgs.get('max_lat')], crs=proj)\n",
    "    geodetic_transform = ccrs.Geodetic()._as_mpl_transform(ax)\n",
    "    text_transform = offset_copy(geodetic_transform, units='dots', x=-25)\n",
    "\n",
    "    ax.plot(stgs.get('point_lon'), stgs.get('point_lat'), marker='o', color='red', markersize=8,\n",
    "            alpha=0.7, transform=ccrs.Geodetic())\n",
    "\n",
    "    ax.text(stgs.get('text_lon'), stgs.get('text_lat'), stgs.get('text_label'),\n",
    "            verticalalignment='bottom', horizontalalignment='left',\n",
    "            transform=text_transform,\n",
    "            bbox=dict(facecolor='white', alpha=0.5, boxstyle='round'))\n",
    "\n",
    "    ax.set_title(wave_name + \" \" + get_time_string(i_time), fontsize=16)\n",
    "    \n",
    "    gr= ax.gridlines(draw_labels = True)\n",
    "    gr.right_labels = False\n",
    "    ax.coastlines()\n",
    "    ax.plot(stgs.get('point_lon'), stgs.get('point_lat'), marker='o', color='red', markersize=8,\n",
    "            alpha=0.7, transform=ccrs.Geodetic(), animated=True)\n",
    "    cs = plt.contour(lons, lats, wave_tn, levels = levels, colors='w', transform=ccrs.PlateCarree())\n",
    "    ax.clabel(cs, colors='w', fontsize=20)\n",
    "    contour_img = ax.contourf(lons + dx/2., lats + dy/2.,wave_tn, levels=levels, cmap=cmap)\n",
    "    cbar = fig.colorbar(contour_img, ax=ax, ticks = ticks)\n",
    "    cbar.ax.set_yticklabels(labels)\n",
    "    \n",
    "    plt.show(block=False)\n",
    "  \n",
    "def jupyter_single_frame_ultra2(i_time):\n",
    "    wave_var = \"VHM0_SW1\"\n",
    "    wave_name = wave_dict[wave_var]\n",
    "    wave_tn = dataset.variables[wave_var][0, :, :]\n",
    "\n",
    "    \n",
    "    wave_tn = dataset.variables[wave_var][i_time, :, :]\n",
    "    fig = plt.figure(figsize=(12, 6), clear=False)\n",
    "    \n",
    "    ax = fig.add_subplot(1, 1, 1, projection=proj)\n",
    "    \n",
    "    ax.set_extent([stgs.get('min_lon'),stgs.get('max_lon'),stgs.get('min_lat'),stgs.get('max_lat')], crs=proj)\n",
    "    geodetic_transform = ccrs.Geodetic()._as_mpl_transform(ax)\n",
    "    text_transform = offset_copy(geodetic_transform, units='dots', x=-25)\n",
    "\n",
    "    ax.plot(stgs.get('point_lon'), stgs.get('point_lat'), marker='o', color='red', markersize=8,\n",
    "            alpha=0.7, transform=ccrs.Geodetic())\n",
    "\n",
    "    ax.text(stgs.get('text_lon'), stgs.get('text_lat'), stgs.get('text_label'),\n",
    "            verticalalignment='bottom', horizontalalignment='left',\n",
    "            transform=text_transform,\n",
    "            bbox=dict(facecolor='white', alpha=0.5, boxstyle='round'))\n",
    "\n",
    "    ax.set_title(wave_name + \" \" + get_time_string(i_time), fontsize=16)\n",
    "    \n",
    "    gr= ax.gridlines(draw_labels = True)\n",
    "    gr.right_labels = False\n",
    "    ax.coastlines()\n",
    "    ax.plot(stgs.get('point_lon'), stgs.get('point_lat'), marker='o', color='red', markersize=8,\n",
    "            alpha=0.7, transform=ccrs.Geodetic(), animated=True)\n",
    "    cs = plt.contour(lons, lats, wave_tn, levels = levels, colors='w', transform=ccrs.PlateCarree())\n",
    "    ax.clabel(cs, colors='w', fontsize=20)\n",
    "    contour_img = ax.contourf(lons + dx/2., lats + dy/2.,wave_tn, levels=levels, cmap=cmap)\n",
    "    cbar = fig.colorbar(contour_img, ax=ax, ticks = ticks)\n",
    "    cbar.ax.set_yticklabels(labels)\n",
    "    \n",
    "    plt.show(block=False)\n",
    "\n",
    "def jupyter_single_frame_ultra3(i_time):\n",
    "    wave_var = \"VHM0_SW2\"\n",
    "    wave_name = wave_dict[wave_var]\n",
    "    wave_tn = dataset.variables[wave_var][0, :, :]\n",
    "    \n",
    "    wave_tn = dataset.variables[wave_var][i_time, :, :]\n",
    "    fig = plt.figure(figsize=(12, 6), clear=False)\n",
    "    \n",
    "    ax = fig.add_subplot(1, 1, 1, projection=proj)\n",
    "    \n",
    "    ax.set_extent([stgs.get('min_lon'),stgs.get('max_lon'),stgs.get('min_lat'),stgs.get('max_lat')], crs=proj)\n",
    "    geodetic_transform = ccrs.Geodetic()._as_mpl_transform(ax)\n",
    "    text_transform = offset_copy(geodetic_transform, units='dots', x=-25)\n",
    "\n",
    "    ax.plot(stgs.get('point_lon'), stgs.get('point_lat'), marker='o', color='red', markersize=8,\n",
    "            alpha=0.7, transform=ccrs.Geodetic())\n",
    "\n",
    "    ax.text(stgs.get('text_lon'), stgs.get('text_lat'), stgs.get('text_label'),\n",
    "            verticalalignment='bottom', horizontalalignment='left',\n",
    "            transform=text_transform,\n",
    "            bbox=dict(facecolor='white', alpha=0.5, boxstyle='round'))\n",
    "\n",
    "    ax.set_title(wave_name + \" \" + get_time_string(i_time), fontsize=16)\n",
    "    \n",
    "    gr= ax.gridlines(draw_labels = True)\n",
    "    gr.right_labels = False\n",
    "    ax.coastlines()\n",
    "    ax.plot(stgs.get('point_lon'), stgs.get('point_lat'), marker='o', color='red', markersize=8,\n",
    "            alpha=0.7, transform=ccrs.Geodetic(), animated=True)\n",
    "    cs = plt.contour(lons, lats, wave_tn, levels = levels, colors='w', transform=ccrs.PlateCarree())\n",
    "    ax.clabel(cs, colors='w', fontsize=20)\n",
    "    contour_img = ax.contourf(lons + dx/2., lats + dy/2.,wave_tn, levels=levels, cmap=cmap)\n",
    "    cbar = fig.colorbar(contour_img, ax=ax, ticks = ticks)\n",
    "    cbar.ax.set_yticklabels(labels)\n",
    "    \n",
    "    plt.show(block=False)\n",
    "   "
   ]
  },
  {
   "cell_type": "code",
   "execution_count": 8,
   "id": "functioning-reset",
   "metadata": {},
   "outputs": [
    {
     "data": {
      "application/vnd.jupyter.widget-view+json": {
       "model_id": "c8477c7ae3144e4fa5859e0a7e50579c",
       "version_major": 2,
       "version_minor": 0
      },
      "text/plain": [
       "interactive(children=(IntSlider(value=0, description='i_time', max=12), Output(layout=Layout(height='400px')))…"
      ]
     },
     "metadata": {},
     "output_type": "display_data"
    }
   ],
   "source": [
    "\n",
    "\n",
    "\n",
    "\n",
    "interactive_plot = widgets.interactive(jupyter_single_frame_ultra1,  i_time = widgets.IntSlider(min=0, max=len(time_xr.time)-1, step=1, value=0))\n",
    "output = interactive_plot.children[-1]\n",
    "output.layout.height = '400px'\n",
    "output.layout.weight = '300px'\n",
    "interactive_plot"
   ]
  },
  {
   "cell_type": "code",
   "execution_count": 9,
   "id": "impossible-natural",
   "metadata": {},
   "outputs": [
    {
     "data": {
      "application/vnd.jupyter.widget-view+json": {
       "model_id": "2157869b31674ea29db4e5786df6ed5a",
       "version_major": 2,
       "version_minor": 0
      },
      "text/plain": [
       "interactive(children=(IntSlider(value=0, description='i_time', max=12), Output(layout=Layout(height='400px')))…"
      ]
     },
     "metadata": {},
     "output_type": "display_data"
    }
   ],
   "source": [
    "wave_var = \"VHM0_SW1\"\n",
    "wave_name = wave_dict[wave_var]\n",
    "\n",
    "\n",
    "interactive_plot = widgets.interactive(jupyter_single_frame_ultra2,  i_time = widgets.IntSlider(min=0, max=len(time_xr.time)-1, step=1, value=0))\n",
    "output = interactive_plot.children[-1]\n",
    "output.layout.height = '400px'\n",
    "output.layout.weight = '300px'\n",
    "interactive_plot"
   ]
  },
  {
   "cell_type": "code",
   "execution_count": 10,
   "id": "simplified-actress",
   "metadata": {},
   "outputs": [
    {
     "data": {
      "application/vnd.jupyter.widget-view+json": {
       "model_id": "9da10b1715b3403a9663c226f62548d9",
       "version_major": 2,
       "version_minor": 0
      },
      "text/plain": [
       "interactive(children=(IntSlider(value=0, description='i_time', max=12), Output(layout=Layout(height='400px')))…"
      ]
     },
     "metadata": {},
     "output_type": "display_data"
    }
   ],
   "source": [
    "wave_var = \"VHM0_SW2\"\n",
    "wave_name = wave_dict[wave_var]\n",
    "\n",
    "\n",
    "interactive_plot = widgets.interactive(jupyter_single_frame_ultra3,  i_time = widgets.IntSlider(min=0, max=len(time_xr.time)-1, step=1, value=0))\n",
    "output = interactive_plot.children[-1]\n",
    "output.layout.height = '400px'\n",
    "output.layout.weight = '300px'\n",
    "interactive_plot"
   ]
  },
  {
   "cell_type": "code",
   "execution_count": 11,
   "id": "brazilian-fairy",
   "metadata": {},
   "outputs": [
    {
     "data": {
      "text/plain": [
       "<class 'netCDF4._netCDF4.Dataset'>\n",
       "root group (NETCDF3_CLASSIC data model, file format NETCDF3):\n",
       "    Conventions: CF-1.6\n",
       "    time_coverage_start: 20210111-03:00:00\n",
       "    time_coverage_end: 20210112-00:00:00\n",
       "    date_created: 20210102-08:32:00\n",
       "    product_type: forecast\n",
       "    product: GLOBAL_ANALYSIS_FORECAST_WAV_001_027\n",
       "    product_ref_date: 20210102-00:00:00\n",
       "    product_range: D+9\n",
       "    product_user_manual: http://marine.copernicus.eu/documents/PUM/CMEMS-GLO-PUM-001-027.pdf\n",
       "    quality_information_document:  http://marine.copernicus.eu/documents/QUID/CMEMS-GLO-QUID-001-027.\n",
       "    dataset: global-analysis-forecast-wav-001-027\n",
       "    title: Mean fields from global wave model MFWAM of Meteo-France with ECMWF forcing\n",
       "    institution: METEO-FRANCE\n",
       "    references: http://marine.copernicus.eu\n",
       "    credit: E.U. Copernicus Marine Service Information (CMEMS)\n",
       "    licence: http://marine.copernicus.eu/services-portfolio/service-commitments-and\n",
       "    contact: servicedesk.cmems@mercator-ocean.eu\n",
       "    producer: CMEMS - Global Monitoring and Forecasting Centre\n",
       "    area: GLO\n",
       "    FROM_ORIGINAL_FILE__geospatial_lon_min: -180.0\n",
       "    FROM_ORIGINAL_FILE__geospatial_lon_max: 179.9167\n",
       "    FROM_ORIGINAL_FILE__geospatial_lon_step: 0.08332825\n",
       "    FROM_ORIGINAL_FILE__geospatial_lon_units: degree\n",
       "    FROM_ORIGINAL_FILE__geospatial_lat_min: -80.0\n",
       "    FROM_ORIGINAL_FILE__geospatial_lat_max: 90.0\n",
       "    FROM_ORIGINAL_FILE__geospatial_lat_step: 0.08333588\n",
       "    FROM_ORIGINAL_FILE__geospatial_lat_units: degree\n",
       "    _CoordSysBuilder: ucar.nc2.dataset.conv.CF1Convention\n",
       "    comment: \n",
       "    source:  \n",
       "    history: Data extracted from dataset http://localhost:8080/thredds/dodsC/global-analysis-forecast-wav-001-027\n",
       "    dimensions(sizes): time(13), latitude(97), longitude(157)\n",
       "    variables(dimensions): int16 VHM0_WW(time, latitude, longitude), float64 latitude(latitude), int16 VMDR_SW2(time, latitude, longitude), int16 VMDR(time, latitude, longitude), int16 VMDR_SW1(time, latitude, longitude), int16 VPED(time, latitude, longitude), int16 VTPK(time, latitude, longitude), int16 VHM0_SW1(time, latitude, longitude), int16 VMDR_WW(time, latitude, longitude), int16 VTM01_SW2(time, latitude, longitude), int16 VSDX(time, latitude, longitude), int16 VTM01_SW1(time, latitude, longitude), int16 VSDY(time, latitude, longitude), float64 time(time), int16 VHM0(time, latitude, longitude), int16 VTM01_WW(time, latitude, longitude), float64 longitude(longitude), int16 VHM0_SW2(time, latitude, longitude)\n",
       "    groups: "
      ]
     },
     "execution_count": 11,
     "metadata": {},
     "output_type": "execute_result"
    }
   ],
   "source": [
    "dataset"
   ]
  }
 ],
 "metadata": {
  "kernelspec": {
   "display_name": "Python 3 (ipykernel)",
   "language": "python",
   "name": "python3"
  },
  "language_info": {
   "codemirror_mode": {
    "name": "ipython",
    "version": 3
   },
   "file_extension": ".py",
   "mimetype": "text/x-python",
   "name": "python",
   "nbconvert_exporter": "python",
   "pygments_lexer": "ipython3",
   "version": "3.8.10"
  }
 },
 "nbformat": 4,
 "nbformat_minor": 5
}
